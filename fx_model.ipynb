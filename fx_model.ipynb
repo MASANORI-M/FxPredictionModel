{
 "cells": [
  {
   "cell_type": "markdown",
   "metadata": {},
   "source": [
    "為替レート取得"
   ]
  },
  {
   "cell_type": "code",
   "execution_count": 4,
   "metadata": {},
   "outputs": [
    {
     "name": "stdout",
     "output_type": "stream",
     "text": [
      "Collecting pandas_datareader\n",
      "  Downloading https://files.pythonhosted.org/packages/22/f1/a02eea03628865c3d4c29849cda8c8a73f43358048aee47d79dfbfa6c6c3/pandas_datareader-0.9.0-py3-none-any.whl (107kB)\n",
      "Requirement already satisfied: lxml in c:\\users\\kouga\\anaconda3\\lib\\site-packages (from pandas_datareader) (4.4.1)\n",
      "Requirement already satisfied: pandas>=0.23 in c:\\users\\kouga\\anaconda3\\lib\\site-packages (from pandas_datareader) (1.1.2)\n",
      "Requirement already satisfied: requests>=2.19.0 in c:\\users\\kouga\\appdata\\roaming\\python\\python37\\site-packages (from pandas_datareader) (2.24.0)\n",
      "Requirement already satisfied: python-dateutil>=2.7.3 in c:\\users\\kouga\\anaconda3\\lib\\site-packages (from pandas>=0.23->pandas_datareader) (2.8.0)\n",
      "Requirement already satisfied: pytz>=2017.2 in c:\\users\\kouga\\anaconda3\\lib\\site-packages (from pandas>=0.23->pandas_datareader) (2019.3)\n",
      "Requirement already satisfied: numpy>=1.15.4 in c:\\users\\kouga\\anaconda3\\lib\\site-packages (from pandas>=0.23->pandas_datareader) (1.16.5)\n",
      "Requirement already satisfied: certifi>=2017.4.17 in c:\\users\\kouga\\anaconda3\\lib\\site-packages (from requests>=2.19.0->pandas_datareader) (2020.6.20)\n",
      "Requirement already satisfied: chardet<4,>=3.0.2 in c:\\users\\kouga\\anaconda3\\lib\\site-packages (from requests>=2.19.0->pandas_datareader) (3.0.4)\n",
      "Requirement already satisfied: idna<3,>=2.5 in c:\\users\\kouga\\anaconda3\\lib\\site-packages (from requests>=2.19.0->pandas_datareader) (2.8)\n",
      "Requirement already satisfied: urllib3!=1.25.0,!=1.25.1,<1.26,>=1.21.1 in c:\\users\\kouga\\anaconda3\\lib\\site-packages (from requests>=2.19.0->pandas_datareader) (1.24.2)\n",
      "Requirement already satisfied: six>=1.5 in c:\\users\\kouga\\anaconda3\\lib\\site-packages (from python-dateutil>=2.7.3->pandas>=0.23->pandas_datareader) (1.12.0)\n",
      "Installing collected packages: pandas-datareader\n",
      "Successfully installed pandas-datareader-0.9.0\n"
     ]
    }
   ],
   "source": [
    "!pip install pandas_datareader"
   ]
  },
  {
   "cell_type": "code",
   "execution_count": 1,
   "metadata": {},
   "outputs": [
    {
     "name": "stderr",
     "output_type": "stream",
     "text": [
      "Using TensorFlow backend.\n"
     ]
    },
    {
     "data": {
      "text/html": [
       "<div>\n",
       "<style scoped>\n",
       "    .dataframe tbody tr th:only-of-type {\n",
       "        vertical-align: middle;\n",
       "    }\n",
       "\n",
       "    .dataframe tbody tr th {\n",
       "        vertical-align: top;\n",
       "    }\n",
       "\n",
       "    .dataframe thead th {\n",
       "        text-align: right;\n",
       "    }\n",
       "</style>\n",
       "<table border=\"1\" class=\"dataframe\">\n",
       "  <thead>\n",
       "    <tr style=\"text-align: right;\">\n",
       "      <th></th>\n",
       "      <th>Date</th>\n",
       "      <th>High</th>\n",
       "      <th>Low</th>\n",
       "      <th>Open</th>\n",
       "      <th>Close</th>\n",
       "      <th>Volume</th>\n",
       "      <th>Adj Close</th>\n",
       "    </tr>\n",
       "  </thead>\n",
       "  <tbody>\n",
       "    <tr>\n",
       "      <th>0</th>\n",
       "      <td>2017-01-02</td>\n",
       "      <td>117.485001</td>\n",
       "      <td>116.724998</td>\n",
       "      <td>116.809998</td>\n",
       "      <td>116.794998</td>\n",
       "      <td>0.0</td>\n",
       "      <td>116.794998</td>\n",
       "    </tr>\n",
       "    <tr>\n",
       "      <th>1</th>\n",
       "      <td>2017-01-03</td>\n",
       "      <td>118.593002</td>\n",
       "      <td>117.286003</td>\n",
       "      <td>117.487999</td>\n",
       "      <td>117.495003</td>\n",
       "      <td>0.0</td>\n",
       "      <td>117.495003</td>\n",
       "    </tr>\n",
       "    <tr>\n",
       "      <th>2</th>\n",
       "      <td>2017-01-04</td>\n",
       "      <td>118.176003</td>\n",
       "      <td>117.068001</td>\n",
       "      <td>117.678001</td>\n",
       "      <td>117.658997</td>\n",
       "      <td>0.0</td>\n",
       "      <td>117.658997</td>\n",
       "    </tr>\n",
       "    <tr>\n",
       "      <th>3</th>\n",
       "      <td>2017-01-05</td>\n",
       "      <td>117.084999</td>\n",
       "      <td>115.292999</td>\n",
       "      <td>117.056000</td>\n",
       "      <td>117.112999</td>\n",
       "      <td>0.0</td>\n",
       "      <td>117.112999</td>\n",
       "    </tr>\n",
       "    <tr>\n",
       "      <th>4</th>\n",
       "      <td>2017-01-06</td>\n",
       "      <td>116.744003</td>\n",
       "      <td>115.263000</td>\n",
       "      <td>115.318001</td>\n",
       "      <td>115.264999</td>\n",
       "      <td>0.0</td>\n",
       "      <td>115.264999</td>\n",
       "    </tr>\n",
       "    <tr>\n",
       "      <th>...</th>\n",
       "      <td>...</td>\n",
       "      <td>...</td>\n",
       "      <td>...</td>\n",
       "      <td>...</td>\n",
       "      <td>...</td>\n",
       "      <td>...</td>\n",
       "      <td>...</td>\n",
       "    </tr>\n",
       "    <tr>\n",
       "      <th>1025</th>\n",
       "      <td>2020-12-10</td>\n",
       "      <td>104.573997</td>\n",
       "      <td>104.232002</td>\n",
       "      <td>104.287003</td>\n",
       "      <td>104.272003</td>\n",
       "      <td>0.0</td>\n",
       "      <td>104.272003</td>\n",
       "    </tr>\n",
       "    <tr>\n",
       "      <th>1026</th>\n",
       "      <td>2020-12-11</td>\n",
       "      <td>104.167999</td>\n",
       "      <td>103.825996</td>\n",
       "      <td>104.167999</td>\n",
       "      <td>104.181999</td>\n",
       "      <td>0.0</td>\n",
       "      <td>104.181999</td>\n",
       "    </tr>\n",
       "    <tr>\n",
       "      <th>1027</th>\n",
       "      <td>2020-12-14</td>\n",
       "      <td>104.083000</td>\n",
       "      <td>103.514000</td>\n",
       "      <td>103.961998</td>\n",
       "      <td>103.939003</td>\n",
       "      <td>0.0</td>\n",
       "      <td>103.939003</td>\n",
       "    </tr>\n",
       "    <tr>\n",
       "      <th>1028</th>\n",
       "      <td>2020-12-15</td>\n",
       "      <td>104.147003</td>\n",
       "      <td>103.681000</td>\n",
       "      <td>104.012001</td>\n",
       "      <td>104.010002</td>\n",
       "      <td>0.0</td>\n",
       "      <td>104.010002</td>\n",
       "    </tr>\n",
       "    <tr>\n",
       "      <th>1029</th>\n",
       "      <td>2020-12-16</td>\n",
       "      <td>103.709999</td>\n",
       "      <td>103.262001</td>\n",
       "      <td>103.651001</td>\n",
       "      <td>103.634003</td>\n",
       "      <td>0.0</td>\n",
       "      <td>103.634003</td>\n",
       "    </tr>\n",
       "  </tbody>\n",
       "</table>\n",
       "<p>1030 rows × 7 columns</p>\n",
       "</div>"
      ],
      "text/plain": [
       "            Date        High         Low        Open       Close  Volume  \\\n",
       "0     2017-01-02  117.485001  116.724998  116.809998  116.794998     0.0   \n",
       "1     2017-01-03  118.593002  117.286003  117.487999  117.495003     0.0   \n",
       "2     2017-01-04  118.176003  117.068001  117.678001  117.658997     0.0   \n",
       "3     2017-01-05  117.084999  115.292999  117.056000  117.112999     0.0   \n",
       "4     2017-01-06  116.744003  115.263000  115.318001  115.264999     0.0   \n",
       "...          ...         ...         ...         ...         ...     ...   \n",
       "1025  2020-12-10  104.573997  104.232002  104.287003  104.272003     0.0   \n",
       "1026  2020-12-11  104.167999  103.825996  104.167999  104.181999     0.0   \n",
       "1027  2020-12-14  104.083000  103.514000  103.961998  103.939003     0.0   \n",
       "1028  2020-12-15  104.147003  103.681000  104.012001  104.010002     0.0   \n",
       "1029  2020-12-16  103.709999  103.262001  103.651001  103.634003     0.0   \n",
       "\n",
       "       Adj Close  \n",
       "0     116.794998  \n",
       "1     117.495003  \n",
       "2     117.658997  \n",
       "3     117.112999  \n",
       "4     115.264999  \n",
       "...          ...  \n",
       "1025  104.272003  \n",
       "1026  104.181999  \n",
       "1027  103.939003  \n",
       "1028  104.010002  \n",
       "1029  103.634003  \n",
       "\n",
       "[1030 rows x 7 columns]"
      ]
     },
     "execution_count": 1,
     "metadata": {},
     "output_type": "execute_result"
    }
   ],
   "source": [
    "import pandas_datareader.data as pdr\n",
    "import datetime\n",
    "import matplotlib.pyplot as plt\n",
    "import seaborn as sns\n",
    "sns.set()\n",
    "\n",
    "import numpy as np\n",
    "import pandas as pd\n",
    "import matplotlib.pyplot as plt\n",
    "\n",
    "from sklearn import preprocessing\n",
    "from keras.models import Sequential\n",
    "from keras.layers.core import Dense, Activation\n",
    "from keras.layers.recurrent import LSTM\n",
    "\n",
    "from keras.optimizers import Adam\n",
    "from keras.callbacks import EarlyStopping\n",
    "from sklearn.model_selection import train_test_split\n",
    "\n",
    "# 警告文非表示\n",
    "import warnings\n",
    "warnings.simplefilter('ignore')\n",
    "\n",
    "df = pd.read_csv(\"usdjpy2.csv\", engine = 'python')\n",
    "df"
   ]
  },
  {
   "cell_type": "code",
   "execution_count": 2,
   "metadata": {},
   "outputs": [
    {
     "data": {
      "text/plain": [
       "0      2017-01-02\n",
       "1      2017-01-03\n",
       "2      2017-01-04\n",
       "3      2017-01-05\n",
       "4      2017-01-06\n",
       "          ...    \n",
       "1025   2020-12-10\n",
       "1026   2020-12-11\n",
       "1027   2020-12-14\n",
       "1028   2020-12-15\n",
       "1029   2020-12-16\n",
       "Name: date, Length: 1030, dtype: datetime64[ns]"
      ]
     },
     "execution_count": 2,
     "metadata": {},
     "output_type": "execute_result"
    }
   ],
   "source": [
    "df['date'] = pd.to_datetime(df['Date'], format = '%Y-%m-%d')\n",
    "df['date']"
   ]
  },
  {
   "cell_type": "code",
   "execution_count": 3,
   "metadata": {},
   "outputs": [
    {
     "data": {
      "text/html": [
       "<div>\n",
       "<style scoped>\n",
       "    .dataframe tbody tr th:only-of-type {\n",
       "        vertical-align: middle;\n",
       "    }\n",
       "\n",
       "    .dataframe tbody tr th {\n",
       "        vertical-align: top;\n",
       "    }\n",
       "\n",
       "    .dataframe thead th {\n",
       "        text-align: right;\n",
       "    }\n",
       "</style>\n",
       "<table border=\"1\" class=\"dataframe\">\n",
       "  <thead>\n",
       "    <tr style=\"text-align: right;\">\n",
       "      <th></th>\n",
       "      <th>date</th>\n",
       "      <th>Aclose</th>\n",
       "    </tr>\n",
       "  </thead>\n",
       "  <tbody>\n",
       "    <tr>\n",
       "      <th>0</th>\n",
       "      <td>2017-01-02</td>\n",
       "      <td>2.634892</td>\n",
       "    </tr>\n",
       "    <tr>\n",
       "      <th>1</th>\n",
       "      <td>2017-01-03</td>\n",
       "      <td>2.893029</td>\n",
       "    </tr>\n",
       "    <tr>\n",
       "      <th>2</th>\n",
       "      <td>2017-01-04</td>\n",
       "      <td>2.953504</td>\n",
       "    </tr>\n",
       "    <tr>\n",
       "      <th>3</th>\n",
       "      <td>2017-01-05</td>\n",
       "      <td>2.752159</td>\n",
       "    </tr>\n",
       "    <tr>\n",
       "      <th>4</th>\n",
       "      <td>2017-01-06</td>\n",
       "      <td>2.070682</td>\n",
       "    </tr>\n",
       "    <tr>\n",
       "      <th>...</th>\n",
       "      <td>...</td>\n",
       "      <td>...</td>\n",
       "    </tr>\n",
       "    <tr>\n",
       "      <th>1025</th>\n",
       "      <td>2020-12-10</td>\n",
       "      <td>-1.983149</td>\n",
       "    </tr>\n",
       "    <tr>\n",
       "      <th>1026</th>\n",
       "      <td>2020-12-11</td>\n",
       "      <td>-2.016339</td>\n",
       "    </tr>\n",
       "    <tr>\n",
       "      <th>1027</th>\n",
       "      <td>2020-12-14</td>\n",
       "      <td>-2.105947</td>\n",
       "    </tr>\n",
       "    <tr>\n",
       "      <th>1028</th>\n",
       "      <td>2020-12-15</td>\n",
       "      <td>-2.079765</td>\n",
       "    </tr>\n",
       "    <tr>\n",
       "      <th>1029</th>\n",
       "      <td>2020-12-16</td>\n",
       "      <td>-2.218421</td>\n",
       "    </tr>\n",
       "  </tbody>\n",
       "</table>\n",
       "<p>1030 rows × 2 columns</p>\n",
       "</div>"
      ],
      "text/plain": [
       "           date    Aclose\n",
       "0    2017-01-02  2.634892\n",
       "1    2017-01-03  2.893029\n",
       "2    2017-01-04  2.953504\n",
       "3    2017-01-05  2.752159\n",
       "4    2017-01-06  2.070682\n",
       "...         ...       ...\n",
       "1025 2020-12-10 -1.983149\n",
       "1026 2020-12-11 -2.016339\n",
       "1027 2020-12-14 -2.105947\n",
       "1028 2020-12-15 -2.079765\n",
       "1029 2020-12-16 -2.218421\n",
       "\n",
       "[1030 rows x 2 columns]"
      ]
     },
     "execution_count": 3,
     "metadata": {},
     "output_type": "execute_result"
    }
   ],
   "source": [
    "df['Aclose'] = preprocessing.scale(df['Adj Close'])\n",
    "df = df.loc[:, ['date', 'Aclose']]\n",
    "df"
   ]
  },
  {
   "cell_type": "markdown",
   "metadata": {},
   "source": [
    "### 正規化"
   ]
  },
  {
   "cell_type": "code",
   "execution_count": 4,
   "metadata": {},
   "outputs": [
    {
     "data": {
      "text/plain": [
       "<Figure size 864x576 with 0 Axes>"
      ]
     },
     "metadata": {},
     "output_type": "display_data"
    },
    {
     "data": {
      "image/png": "[encoded data removed]",
      "text/plain": [
       "<Figure size 432x288 with 1 Axes>"
      ]
     },
     "metadata": {
      "needs_background": "light"
     },
     "output_type": "display_data"
    }
   ],
   "source": [
    "cols = ['Aclose']\n",
    "\n",
    "plt.figure(figsize = (12, 8))\n",
    "df[cols].plot()\n",
    "plt.tight_layout()"
   ]
  },
  {
   "cell_type": "markdown",
   "metadata": {},
   "source": [
    "調整後終値（Adj Close）を使用して学習モデルを構築する<br>\n",
    "LSTM"
   ]
  },
  {
   "cell_type": "code",
   "execution_count": 6,
   "metadata": {},
   "outputs": [
    {
     "data": {
      "text/plain": [
       "date      datetime64[ns]\n",
       "Aclose           float64\n",
       "dtype: object"
      ]
     },
     "execution_count": 6,
     "metadata": {},
     "output_type": "execute_result"
    }
   ],
   "source": [
    "df.dtypes"
   ]
  },
  {
   "cell_type": "code",
   "execution_count": 5,
   "metadata": {},
   "outputs": [],
   "source": [
    "X, Y = [], []\n",
    "\n",
    "for i in range(len(df) -10):\n",
    "    X.append(df[['Aclose']].iloc[i:(i + 10)].values)\n",
    "    Y.append(df[['Aclose']].iloc[i + 10].values)\n",
    "             \n",
    "X = np.array(X)\n",
    "Y = np.array(Y)"
   ]
  },
  {
   "cell_type": "markdown",
   "metadata": {},
   "source": [
    "分割"
   ]
  },
  {
   "cell_type": "code",
   "execution_count": 6,
   "metadata": {},
   "outputs": [],
   "source": [
    "n = int(len(X) * 0.8)\n",
    "\n",
    "X_train, X_test = np.vsplit(X, [n])\n",
    "y_train, y_test = np.vsplit(Y, [n])"
   ]
  },
  {
   "cell_type": "code",
   "execution_count": 8,
   "metadata": {},
   "outputs": [
    {
     "data": {
      "text/plain": [
       "array([[2.63489186],\n",
       "       [2.89302895],\n",
       "       [2.95350411],\n",
       "       [2.75215938],\n",
       "       [2.07068208],\n",
       "       [2.76580462],\n",
       "       [2.33619322],\n",
       "       [2.29452318],\n",
       "       [2.00909841],\n",
       "       [1.84905516]])"
      ]
     },
     "execution_count": 8,
     "metadata": {},
     "output_type": "execute_result"
    }
   ],
   "source": [
    "X_train[0]"
   ]
  },
  {
   "cell_type": "markdown",
   "metadata": {},
   "source": [
    "モデル作成 & 学習"
   ]
  },
  {
   "cell_type": "code",
   "execution_count": 9,
   "metadata": {},
   "outputs": [],
   "source": [
    "n_in = 1\n",
    "n_out = 1\n",
    "n_hidden = 300\n",
    "\n",
    "model = Sequential()\n",
    "model.add(LSTM(n_hidden,\n",
    "               batch_input_shape = (None,  10, n_in),\n",
    "               kernel_initializer = 'random_uniform',\n",
    "               return_sequences = False))\n",
    "\n",
    "model.add(Dense(n_in, kernel_initializer = 'random_uniform'))\n",
    "model.add(Activation(\"linear\"))\n",
    "\n",
    "opt = Adam(lr = 0.001, beta_1 = 0.9, beta_2 = 0.999)\n",
    "model.compile(loss = \"mean_squared_error\", optimizer = opt)"
   ]
  },
  {
   "cell_type": "code",
   "execution_count": 10,
   "metadata": {},
   "outputs": [
    {
     "name": "stdout",
     "output_type": "stream",
     "text": [
      "WARNING:tensorflow:From C:\\Users\\kouga\\Anaconda3\\lib\\site-packages\\keras\\backend\\tensorflow_backend.py:422: The name tf.global_variables is deprecated. Please use tf.compat.v1.global_variables instead.\n",
      "\n",
      "Epoch 1/30\n",
      "816/816 [==============================] - 1s 1ms/step - loss: 0.1607\n",
      "Epoch 2/30\n",
      "816/816 [==============================] - 1s 836us/step - loss: 0.0886\n",
      "Epoch 3/30\n",
      "816/816 [==============================] - 1s 741us/step - loss: 0.0635\n",
      "Epoch 4/30\n",
      "816/816 [==============================] - 1s 746us/step - loss: 0.0524\n",
      "Epoch 5/30\n",
      "816/816 [==============================] - 1s 739us/step - loss: 0.0481\n",
      "Epoch 6/30\n",
      "816/816 [==============================] - 1s 742us/step - loss: 0.0418\n",
      "Epoch 7/30\n",
      "816/816 [==============================] - 1s 740us/step - loss: 0.0389\n",
      "Epoch 8/30\n",
      "816/816 [==============================] - 1s 747us/step - loss: 0.0382\n",
      "Epoch 9/30\n",
      "816/816 [==============================] - 1s 744us/step - loss: 0.0389\n",
      "Epoch 10/30\n",
      "816/816 [==============================] - 1s 744us/step - loss: 0.0350\n",
      "Epoch 11/30\n",
      "816/816 [==============================] - 1s 742us/step - loss: 0.0342\n",
      "Epoch 12/30\n",
      "816/816 [==============================] - 1s 743us/step - loss: 0.0338\n",
      "Epoch 13/30\n",
      "816/816 [==============================] - 1s 747us/step - loss: 0.0349\n",
      "Epoch 14/30\n",
      "816/816 [==============================] - 1s 745us/step - loss: 0.0347\n",
      "Epoch 15/30\n",
      "816/816 [==============================] - 1s 744us/step - loss: 0.0331\n",
      "Epoch 16/30\n",
      "816/816 [==============================] - 1s 741us/step - loss: 0.0341\n",
      "Epoch 17/30\n",
      "816/816 [==============================] - 1s 746us/step - loss: 0.0344\n",
      "Epoch 18/30\n",
      "816/816 [==============================] - 1s 754us/step - loss: 0.0341\n",
      "Epoch 19/30\n",
      "816/816 [==============================] - 1s 764us/step - loss: 0.0330\n",
      "Epoch 20/30\n",
      "816/816 [==============================] - 1s 754us/step - loss: 0.0339\n",
      "Epoch 21/30\n",
      "816/816 [==============================] - 1s 745us/step - loss: 0.0351\n",
      "Epoch 22/30\n",
      "816/816 [==============================] - 1s 750us/step - loss: 0.0331\n",
      "Epoch 23/30\n",
      "816/816 [==============================] - 1s 796us/step - loss: 0.0332\n",
      "Epoch 24/30\n",
      "816/816 [==============================] - 1s 779us/step - loss: 0.0329\n",
      "Epoch 25/30\n",
      "816/816 [==============================] - 1s 739us/step - loss: 0.0337\n",
      "Epoch 26/30\n",
      "816/816 [==============================] - 1s 758us/step - loss: 0.0331\n",
      "Epoch 27/30\n",
      "816/816 [==============================] - 1s 752us/step - loss: 0.0334\n",
      "Epoch 28/30\n",
      "816/816 [==============================] - 1s 739us/step - loss: 0.0342\n",
      "Epoch 29/30\n",
      "816/816 [==============================] - 1s 739us/step - loss: 0.0332\n",
      "Epoch 30/30\n",
      "816/816 [==============================] - 1s 734us/step - loss: 0.0331\n"
     ]
    }
   ],
   "source": [
    "hist = model.fit(X_train, y_train, batch_size = 10, epochs = 30)"
   ]
  },
  {
   "cell_type": "markdown",
   "metadata": {},
   "source": [
    "損失関数"
   ]
  },
  {
   "cell_type": "code",
   "execution_count": 11,
   "metadata": {},
   "outputs": [
    {
     "data": {
      "image/png": "[encoded data removed]",
      "text/plain": [
       "<Figure size 432x288 with 1 Axes>"
      ]
     },
     "metadata": {},
     "output_type": "display_data"
    }
   ],
   "source": [
    "loss = hist.history['loss']\n",
    "epochs = len(loss)\n",
    "plt.rc('font', family = 'serif')\n",
    "fig = plt.figure()\n",
    "fig.patch.set_facecolor('white')\n",
    "plt.plot(range(epochs), loss, marker = '.', label = 'loss(training data)')\n",
    "plt.show()"
   ]
  },
  {
   "cell_type": "markdown",
   "metadata": {},
   "source": [
    "予測結果"
   ]
  },
  {
   "cell_type": "code",
   "execution_count": 12,
   "metadata": {},
   "outputs": [
    {
     "data": {
      "image/png": "[encoded data removed]",
      "text/plain": [
       "<Figure size 432x288 with 1 Axes>"
      ]
     },
     "metadata": {
      "needs_background": "light"
     },
     "output_type": "display_data"
    }
   ],
   "source": [
    "pred = model.predict(X_test)\n",
    "\n",
    "result = pd.DataFrame(pred)\n",
    "result.columns = ['predict']\n",
    "result['actual'] = y_test\n",
    "result.plot()\n",
    "plt.show()"
   ]
  },
  {
   "cell_type": "code",
   "execution_count": 9,
   "metadata": {},
   "outputs": [
    {
     "data": {
      "text/plain": [
       "array([[ 0.84970273],\n",
       "       [ 0.70330191],\n",
       "       [ 0.44516764],\n",
       "       [ 0.23460322],\n",
       "       [ 0.26299658],\n",
       "       [ 0.00375662],\n",
       "       [-0.72013066],\n",
       "       [-0.42880609],\n",
       "       [-0.96351401],\n",
       "       [-0.72750472]])"
      ]
     },
     "execution_count": 9,
     "metadata": {},
     "output_type": "execute_result"
    }
   ],
   "source": [
    "X_test[0]"
   ]
  },
  {
   "cell_type": "markdown",
   "metadata": {},
   "source": [
    "性能評価<br>\n",
    "・RMSE<br>\n",
    "・決定係数"
   ]
  },
  {
   "cell_type": "code",
   "execution_count": 13,
   "metadata": {},
   "outputs": [
    {
     "name": "stdout",
     "output_type": "stream",
     "text": [
      "RMSE : 0.22278154430827254\n",
      "決定係数 : 0.8226455447310195\n"
     ]
    }
   ],
   "source": [
    "def rmse(pred, y_true):\n",
    "    return np.sqrt(((y_true - pred) ** 2).mean())\n",
    "\n",
    "print(\"RMSE :\", rmse(model.predict(X_test), y_test))\n",
    "\n",
    "from sklearn.metrics import r2_score\n",
    "\n",
    "print(\"決定係数 :\",r2_score(model.predict(X_test), y_test))"
   ]
  },
  {
   "cell_type": "code",
   "execution_count": 14,
   "metadata": {},
   "outputs": [
    {
     "data": {
      "text/plain": [
       "['model.pkl']"
      ]
     },
     "execution_count": 14,
     "metadata": {},
     "output_type": "execute_result"
    }
   ],
   "source": [
    "import warnings\n",
    "warnings.filterwarnings('ignore')\n",
    "#from sklearn.externals import joblib\n",
    "\n",
    "import joblib\n",
    "\n",
    "joblib.dump(model, \"model.pkl\", compress = True)"
   ]
  },
  {
   "cell_type": "markdown",
   "metadata": {},
   "source": [
    "・正規化から元に戻す<br>\n",
    "・日付と終値の紐づけ　⇒　API化<br>"
   ]
  },
  {
   "cell_type": "code",
   "execution_count": null,
   "metadata": {},
   "outputs": [],
   "source": []
  }
 ],
 "metadata": {
  "kernelspec": {
   "display_name": "Python 3",
   "language": "python",
   "name": "python3"
  },
  "language_info": {
   "codemirror_mode": {
    "name": "ipython",
    "version": 3
   },
   "file_extension": ".py",
   "mimetype": "text/x-python",
   "name": "python",
   "nbconvert_exporter": "python",
   "pygments_lexer": "ipython3",
   "version": "3.7.4"
  }
 },
 "nbformat": 4,
 "nbformat_minor": 2
}
